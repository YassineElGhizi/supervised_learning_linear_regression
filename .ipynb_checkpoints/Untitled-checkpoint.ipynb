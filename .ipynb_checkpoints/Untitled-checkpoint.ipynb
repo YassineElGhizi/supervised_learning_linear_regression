{
 "cells": [
  {
   "cell_type": "code",
   "execution_count": 1,
   "id": "61ac16c7",
   "metadata": {},
   "outputs": [],
   "source": [
    "#basic imports"
   ]
  },
  {
   "cell_type": "code",
   "execution_count": 2,
   "id": "7c05b5f9",
   "metadata": {},
   "outputs": [],
   "source": [
    "import numpy as np \n",
    "import pandas as pd\n",
    "\n",
    "import plotly.express as px \n",
    "import plotly.graph_objects as go\n",
    "import plotly.io as pio\n",
    "pio.templates\n",
    "\n",
    "import seaborn as sns \n",
    "import matplotlib.pyplot as plt \n",
    "%matplotlib inline"
   ]
  },
  {
   "cell_type": "code",
   "execution_count": 9,
   "id": "1ee05980",
   "metadata": {},
   "outputs": [],
   "source": [
    "#loading the dataset provided from sklearn\n",
    "from sklearn.datasets import load_boston \n",
    "load_boston = load_boston() "
   ]
  },
  {
   "cell_type": "code",
   "execution_count": 11,
   "id": "70d050f6",
   "metadata": {},
   "outputs": [],
   "source": [
    "##x -> all the datat without the price column (the target)\n",
    "X = load_boston.data \n",
    "y = load_boston.target "
   ]
  },
  {
   "cell_type": "code",
   "execution_count": null,
   "id": "fd9658a5",
   "metadata": {},
   "outputs": [],
   "source": []
  }
 ],
 "metadata": {
  "kernelspec": {
   "display_name": "Python 3 (ipykernel)",
   "language": "python",
   "name": "python3"
  },
  "language_info": {
   "codemirror_mode": {
    "name": "ipython",
    "version": 3
   },
   "file_extension": ".py",
   "mimetype": "text/x-python",
   "name": "python",
   "nbconvert_exporter": "python",
   "pygments_lexer": "ipython3",
   "version": "3.9.7"
  }
 },
 "nbformat": 4,
 "nbformat_minor": 5
}
